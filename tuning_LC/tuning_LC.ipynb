{
 "cells": [
  {
   "cell_type": "code",
   "execution_count": null,
   "metadata": {},
   "outputs": [],
   "source": [
    "import numpy as np\n",
    "import matplotlib.pyplot as plt\n",
    "import scipy.io\n",
    "import scipy.stats"
   ]
  },
  {
   "cell_type": "code",
   "execution_count": null,
   "metadata": {},
   "outputs": [],
   "source": [
    "data = {\n",
    "    36: 330,\n",
    "    39: 329,\n",
    "    46: 328,\n",
    "    59: 323,\n",
    "    69: 322,\n",
    "    76: 320\n",
    "}\n",
    "\n",
    "temp = list(data.keys())\n",
    "LSB = list(data.values())"
   ]
  },
  {
   "cell_type": "code",
   "execution_count": null,
   "metadata": {},
   "outputs": [],
   "source": [
    "slope, intercept = scipy.stats.linregress(temp, LSB)[:2]\n",
    "print(\"Slope:\", slope, \"Intercept:\", intercept)\n",
    "\n",
    "x = np.arange(-10, 100)\n",
    "plt.plot(temp, LSB)\n",
    "plt.plot(x, slope * x + intercept)\n",
    "plt.show()"
   ]
  },
  {
   "cell_type": "code",
   "execution_count": null,
   "metadata": {},
   "outputs": [],
   "source": [
    "data = {\n",
    "    12.8: 196000,\n",
    "    1.26: 180000,\n",
    "    35: 164000,\n",
    "    53: 176000,\n",
    "    80: 192000\n",
    "}\n",
    "\n",
    "temp = list(data.keys())\n",
    "frequency_per_LSB = list(data.values())"
   ]
  },
  {
   "cell_type": "code",
   "execution_count": null,
   "metadata": {},
   "outputs": [],
   "source": [
    "slope, intercept = scipy.stats.linregress(temp, frequency_per_LSB)[:2]\n",
    "print(\"Slope:\", slope, \"Intercept:\", intercept)\n",
    "\n",
    "x = np.arange(-10, 100)\n",
    "plt.plot(temp, frequency_per_LSB)\n",
    "plt.plot(x, slope * x + intercept)\n",
    "plt.show()"
   ]
  }
 ],
 "metadata": {
  "kernelspec": {
   "display_name": "Python 3",
   "language": "python",
   "name": "python3"
  },
  "language_info": {
   "codemirror_mode": {
    "name": "ipython",
    "version": 3
   },
   "file_extension": ".py",
   "mimetype": "text/x-python",
   "name": "python",
   "nbconvert_exporter": "python",
   "pygments_lexer": "ipython3",
   "version": "3.6.5"
  }
 },
 "nbformat": 4,
 "nbformat_minor": 2
}
