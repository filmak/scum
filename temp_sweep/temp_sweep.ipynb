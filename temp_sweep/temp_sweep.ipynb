{
 "cells": [
  {
   "cell_type": "code",
   "execution_count": null,
   "metadata": {},
   "outputs": [],
   "source": [
    "import numpy as np\n",
    "import matplotlib.pyplot as plt\n",
    "import scipy.io\n",
    "import scipy.stats"
   ]
  },
  {
   "cell_type": "code",
   "execution_count": null,
   "metadata": {},
   "outputs": [],
   "source": [
    "data = scipy.io.loadmat('temp_05_11_2019.mat')"
   ]
  },
  {
   "cell_type": "code",
   "execution_count": null,
   "metadata": {},
   "outputs": [],
   "source": [
    "temp_x = data['temperature'][0]\n",
    "temp_y = data['measured_temp'][0]\n",
    "lc = data['LC_counter'][0]\n",
    "\n",
    "temp_x = temp_x[~np.isnan(temp_y)]\n",
    "temp_y = temp_y[~np.isnan(temp_y)]\n",
    "lc = lc[~np.isnan(temp_y)]\n",
    "\n",
    "temp_slope, temp_intercept = scipy.stats.linregress(temp_x, temp_y)[:2]\n",
    "print('Slope:', temp_slope, 'Intercept:', temp_intercept)"
   ]
  },
  {
   "cell_type": "code",
   "execution_count": null,
   "metadata": {},
   "outputs": [],
   "source": [
    "plt.plot(temp_x, temp_y - (temp_slope * temp_x + temp_intercept))"
   ]
  },
  {
   "cell_type": "code",
   "execution_count": null,
   "metadata": {},
   "outputs": [],
   "source": [
    "plt.scatter(temp_x, temp_y)\n",
    "\n",
    "x = np.arange(0, 90)\n",
    "plt.plot(x, temp_slope * x + temp_intercept, 'g-')\n",
    "\n",
    "plt.xlabel('Actual temperature')\n",
    "plt.ylabel('Measured chip temperature')\n",
    "plt.title('Measured vs. actual temperature')\n",
    "plt.show()"
   ]
  },
  {
   "cell_type": "code",
   "execution_count": null,
   "metadata": {},
   "outputs": [],
   "source": [
    "print('Mean:', np.mean(lc))\n",
    "print('Standard deviation:', np.std(lc))\n",
    "print('Max deviation from mean:', max(lc - np.mean(lc)), '=', max(lc - np.mean(lc)) / np.mean(lc))"
   ]
  },
  {
   "cell_type": "code",
   "execution_count": null,
   "metadata": {},
   "outputs": [],
   "source": [
    "plt.scatter(temp_x, lc)\n",
    "plt.xlabel('Temperature')\n",
    "plt.ylabel('Modulated frequency')\n",
    "plt.title('Modulated frequency vs. temperature')\n",
    "plt.show()\n",
    "\n",
    "plt.scatter(temp_x[temp_x < 37], lc[temp_x < 37])\n",
    "plt.xlabel('Temperature')\n",
    "plt.ylabel('Modulated frequency')\n",
    "plt.title('Modulated frequency vs. temperature')\n",
    "plt.show()"
   ]
  }
 ],
 "metadata": {
  "kernelspec": {
   "display_name": "Python 3",
   "language": "python",
   "name": "python3"
  },
  "language_info": {
   "codemirror_mode": {
    "name": "ipython",
    "version": 3
   },
   "file_extension": ".py",
   "mimetype": "text/x-python",
   "name": "python",
   "nbconvert_exporter": "python",
   "pygments_lexer": "ipython3",
   "version": "3.6.5"
  }
 },
 "nbformat": 4,
 "nbformat_minor": 2
}
