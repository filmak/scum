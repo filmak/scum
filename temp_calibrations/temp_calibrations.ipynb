{
 "cells": [
  {
   "cell_type": "code",
   "execution_count": null,
   "metadata": {},
   "outputs": [],
   "source": [
    "import numpy as np\n",
    "import matplotlib.pyplot as plt\n",
    "import scipy.io\n",
    "import scipy.stats"
   ]
  },
  {
   "cell_type": "code",
   "execution_count": null,
   "metadata": {},
   "outputs": [],
   "source": [
    "temp_counters = scipy.io.loadmat('temp_sweep_05_11_2019.mat')\n",
    "temp_LC = scipy.io.loadmat('temp_LC_12_10_2018.mat')"
   ]
  },
  {
   "cell_type": "code",
   "execution_count": null,
   "metadata": {},
   "outputs": [],
   "source": [
    "slope_LC, intercept_LC = scipy.stats.linregress(temp_LC['temperature'][0], temp_LC['LC_frequency'][0])[:2]\n",
    "print(\"Slope:\", slope_LC, \"Intercept:\", intercept_LC)\n",
    "\n",
    "x = np.arange(-10, 100)\n",
    "plt.plot(temp_LC['temperature'][0], temp_LC['LC_frequency'][0])\n",
    "plt.plot(x, slope_LC * x + intercept_LC)\n",
    "plt.show()"
   ]
  },
  {
   "cell_type": "code",
   "execution_count": null,
   "metadata": {},
   "outputs": [],
   "source": [
    "slope_32k, intercept_32k = scipy.stats.linregress(temp_counters['temperature'][0], temp_counters['counts_32k'][0])[:2]\n",
    "print(\"Slope:\", slope_32k, \"Intercept:\", intercept_32k)\n",
    "\n",
    "x = np.arange(-10, 100)\n",
    "plt.plot(temp_counters['temperature'][0], temp_counters['counts_32k'][0])\n",
    "plt.plot(x, slope_32k * x + intercept_32k)\n",
    "plt.show()"
   ]
  },
  {
   "cell_type": "code",
   "execution_count": null,
   "metadata": {},
   "outputs": [],
   "source": [
    "slope_2M, intercept_2M = scipy.stats.linregress(temp_counters['temperature'][0], temp_counters['counts_2M'][0])[:2]\n",
    "print(\"Slope:\", slope_2M, \"Intercept:\", intercept_2M)\n",
    "\n",
    "x = np.arange(-10, 100)\n",
    "plt.plot(temp_counters['temperature'][0], temp_counters['counts_2M'][0])\n",
    "plt.plot(x, slope_2M * x + intercept_2M)\n",
    "plt.show()"
   ]
  },
  {
   "cell_type": "code",
   "execution_count": null,
   "metadata": {},
   "outputs": [],
   "source": [
    "slope_ratio, intercept_ratio = scipy.stats.linregress(temp_counters['ratios_2M_32k'][0], temp_counters['temperature'][0])[:2]\n",
    "print(\"Slope:\", slope_ratio, \"Intercept:\", intercept_ratio)\n",
    "\n",
    "x = np.arange(57, 62)\n",
    "plt.plot(temp_counters['ratios_2M_32k'][0], temp_counters['temperature'][0])\n",
    "plt.plot(x, slope_ratio * x + intercept_ratio)\n",
    "plt.show()"
   ]
  }
 ],
 "metadata": {
  "kernelspec": {
   "display_name": "Python 3",
   "language": "python",
   "name": "python3"
  },
  "language_info": {
   "codemirror_mode": {
    "name": "ipython",
    "version": 3
   },
   "file_extension": ".py",
   "mimetype": "text/x-python",
   "name": "python",
   "nbconvert_exporter": "python",
   "pygments_lexer": "ipython3",
   "version": "3.6.5"
  }
 },
 "nbformat": 4,
 "nbformat_minor": 2
}
